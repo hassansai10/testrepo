{
 "cells": [
  {
   "cell_type": "markdown",
   "id": "d2988480-ab13-4cca-9959-6762e5f8d301",
   "metadata": {},
   "source": [
    "# Data Science Tools and Ecosystem"
   ]
  },
  {
   "cell_type": "markdown",
   "id": "507b8486-d402-4ca7-bb68-ff0c911c30b1",
   "metadata": {},
   "source": [
    "In this notebook, Data Science Tools and Ecosystem are summarized."
   ]
  },
  {
   "cell_type": "markdown",
   "id": "0d2c9997-9fe3-4287-879a-87e37af89230",
   "metadata": {
    "tags": []
   },
   "source": [
    "__Objectives:__\n",
    "\n",
    "- List popular languages for Data Science.\n",
    "- Explore key open-source tools used in Data Science.\n",
    "- Understand the conversion of units (e.g., minutes to hours).\n",
    "- Discuss the role of data visualization in Data Science.\n",
    "- Overview of basic data manipulation techniques."
   ]
  },
  {
   "cell_type": "markdown",
   "id": "5358cba8-6c70-4517-81e8-c78f8bfcd94d",
   "metadata": {},
   "source": [
    "Some of the popular languages that Data Scientists use are:\n",
    "\n",
    "1. Python\n",
    "2. SQL (Structured Query Language)\n",
    "3. R\n",
    "4. Julia"
   ]
  },
  {
   "cell_type": "markdown",
   "id": "464e25bf-6f84-4e6d-8890-d72224d64304",
   "metadata": {},
   "source": [
    "Some of the commonly used libraries used by Data Scientists include:\n",
    "\n",
    "1. Numpy\n",
    "2. Pandas\n",
    "3. Matplotlib"
   ]
  },
  {
   "cell_type": "markdown",
   "id": "7a7cd112-44b6-41a4-8b97-20827018ade2",
   "metadata": {},
   "source": [
    "| Data Science Tools   |\n",
    "|----------------------|\n",
    "| Jupyter Notebooks    |\n",
    "| RStudio              |\n",
    "| Apache Zeppelin      |\n"
   ]
  },
  {
   "cell_type": "markdown",
   "id": "6796f2df-a7bd-4976-b5bd-67b06e0dc216",
   "metadata": {},
   "source": [
    "### Below are a few examples of evaluating arithmetic expressions in Python"
   ]
  },
  {
   "cell_type": "code",
   "execution_count": 1,
   "id": "591c504d-555b-4001-9036-fbad3698da62",
   "metadata": {
    "tags": []
   },
   "outputs": [
    {
     "data": {
      "text/plain": [
       "17"
      ]
     },
     "execution_count": 1,
     "metadata": {},
     "output_type": "execute_result"
    }
   ],
   "source": [
    "#This a simple arithmetic expression to mutiply then add integers\n",
    "(3*4)+5"
   ]
  },
  {
   "cell_type": "code",
   "execution_count": 3,
   "id": "811f5805-25be-4513-aff8-24f7790e6578",
   "metadata": {
    "tags": []
   },
   "outputs": [
    {
     "name": "stdout",
     "output_type": "stream",
     "text": [
      "3.3333333333333335\n"
     ]
    }
   ],
   "source": [
    "#This will convert 200 minutes to hours by diving by 60\n",
    "minutes=200\n",
    "hours=minutes/60\n",
    "print(hours)"
   ]
  },
  {
   "cell_type": "markdown",
   "id": "2b5f5a38-55cb-44e4-8c8c-636ec0cb380f",
   "metadata": {},
   "source": [
    "## Author\n",
    "Hassan Saifuddin"
   ]
  },
  {
   "cell_type": "code",
   "execution_count": null,
   "id": "906e81bc-8ce3-479d-9704-3da07f57fdd8",
   "metadata": {},
   "outputs": [],
   "source": []
  }
 ],
 "metadata": {
  "kernelspec": {
   "display_name": "Python 3 (ipykernel)",
   "language": "python",
   "name": "python3"
  },
  "language_info": {
   "codemirror_mode": {
    "name": "ipython",
    "version": 3
   },
   "file_extension": ".py",
   "mimetype": "text/x-python",
   "name": "python",
   "nbconvert_exporter": "python",
   "pygments_lexer": "ipython3",
   "version": "3.11.5"
  }
 },
 "nbformat": 4,
 "nbformat_minor": 5
}
